{
  "nbformat": 4,
  "nbformat_minor": 0,
  "metadata": {
    "colab": {
      "provenance": [],
      "authorship_tag": "ABX9TyP6zWbCwUQVgx6XZVVJ2pW4",
      "include_colab_link": true
    },
    "kernelspec": {
      "name": "python3",
      "display_name": "Python 3"
    },
    "language_info": {
      "name": "python"
    }
  },
  "cells": [
    {
      "cell_type": "markdown",
      "metadata": {
        "id": "view-in-github",
        "colab_type": "text"
      },
      "source": [
        "<a href=\"https://colab.research.google.com/github/malskim1123/CIS-2100-Project-2/blob/main/CIS_2100_project_3.ipynb\" target=\"_parent\"><img src=\"https://colab.research.google.com/assets/colab-badge.svg\" alt=\"Open In Colab\"/></a>"
      ]
    },
    {
      "cell_type": "code",
      "execution_count": 1,
      "metadata": {
        "colab": {
          "base_uri": "https://localhost:8080/"
        },
        "collapsed": true,
        "id": "IANIUfS0i4bH",
        "outputId": "97d713a5-3874-437f-f3ca-f05c0c807001"
      },
      "outputs": [
        {
          "output_type": "stream",
          "name": "stdout",
          "text": [
            "Requirement already satisfied: pandas in /usr/local/lib/python3.10/dist-packages (2.2.2)\n",
            "Requirement already satisfied: mlxtend in /usr/local/lib/python3.10/dist-packages (0.23.3)\n",
            "Requirement already satisfied: numpy>=1.22.4 in /usr/local/lib/python3.10/dist-packages (from pandas) (1.26.4)\n",
            "Requirement already satisfied: python-dateutil>=2.8.2 in /usr/local/lib/python3.10/dist-packages (from pandas) (2.8.2)\n",
            "Requirement already satisfied: pytz>=2020.1 in /usr/local/lib/python3.10/dist-packages (from pandas) (2024.2)\n",
            "Requirement already satisfied: tzdata>=2022.7 in /usr/local/lib/python3.10/dist-packages (from pandas) (2024.2)\n",
            "Requirement already satisfied: scipy>=1.2.1 in /usr/local/lib/python3.10/dist-packages (from mlxtend) (1.13.1)\n",
            "Requirement already satisfied: scikit-learn>=1.3.1 in /usr/local/lib/python3.10/dist-packages (from mlxtend) (1.5.2)\n",
            "Requirement already satisfied: matplotlib>=3.0.0 in /usr/local/lib/python3.10/dist-packages (from mlxtend) (3.8.0)\n",
            "Requirement already satisfied: joblib>=0.13.2 in /usr/local/lib/python3.10/dist-packages (from mlxtend) (1.4.2)\n",
            "Requirement already satisfied: contourpy>=1.0.1 in /usr/local/lib/python3.10/dist-packages (from matplotlib>=3.0.0->mlxtend) (1.3.1)\n",
            "Requirement already satisfied: cycler>=0.10 in /usr/local/lib/python3.10/dist-packages (from matplotlib>=3.0.0->mlxtend) (0.12.1)\n",
            "Requirement already satisfied: fonttools>=4.22.0 in /usr/local/lib/python3.10/dist-packages (from matplotlib>=3.0.0->mlxtend) (4.55.2)\n",
            "Requirement already satisfied: kiwisolver>=1.0.1 in /usr/local/lib/python3.10/dist-packages (from matplotlib>=3.0.0->mlxtend) (1.4.7)\n",
            "Requirement already satisfied: packaging>=20.0 in /usr/local/lib/python3.10/dist-packages (from matplotlib>=3.0.0->mlxtend) (24.2)\n",
            "Requirement already satisfied: pillow>=6.2.0 in /usr/local/lib/python3.10/dist-packages (from matplotlib>=3.0.0->mlxtend) (11.0.0)\n",
            "Requirement already satisfied: pyparsing>=2.3.1 in /usr/local/lib/python3.10/dist-packages (from matplotlib>=3.0.0->mlxtend) (3.2.0)\n",
            "Requirement already satisfied: six>=1.5 in /usr/local/lib/python3.10/dist-packages (from python-dateutil>=2.8.2->pandas) (1.17.0)\n",
            "Requirement already satisfied: threadpoolctl>=3.1.0 in /usr/local/lib/python3.10/dist-packages (from scikit-learn>=1.3.1->mlxtend) (3.5.0)\n"
          ]
        }
      ],
      "source": [
        "%pip install pandas mlxtend"
      ]
    },
    {
      "cell_type": "code",
      "source": [
        "import pandas as pd\n",
        "from mlxtend.frequent_patterns import apriori, association_rules\n",
        "from mlxtend.preprocessing import TransactionEncoder\n"
      ],
      "metadata": {
        "id": "u-P0Jcn7jRcd"
      },
      "execution_count": 23,
      "outputs": []
    },
    {
      "cell_type": "code",
      "source": [
        "path = \"/content/drive/MyDrive/CIS 2100 proj 2/sales_records.csv\"\n",
        "df = pd.read_csv(path)\n",
        "baskets_per_store = df.groupby(['StoreID', 'OrderID'])['ProductName'].apply(list)"
      ],
      "metadata": {
        "id": "qBvBqcYEkB-N"
      },
      "execution_count": 5,
      "outputs": []
    },
    {
      "cell_type": "markdown",
      "source": [
        "# **BEST SELLING ITEM IN 10 STORES**"
      ],
      "metadata": {
        "id": "L2pdnJCcyI4b"
      }
    },
    {
      "cell_type": "code",
      "source": [
        "#analysis of the best selling items for each store (chose 10 random stores)\n",
        "def get_best_selling_item_per_store(df, store_id):\n",
        "    \"\"\"\n",
        "    Returns the best-selling item for a specific store.\n",
        "    \"\"\"\n",
        "    store_data = df[df['StoreID'] == store_id]\n",
        "    best_selling_item = store_data['ProductName'].value_counts().head(1)\n",
        "    return best_selling_item\n",
        "\n",
        "random_stores = random.sample(df['StoreID'].unique().tolist(), 10)\n",
        "\n",
        "best_selling_items_per_store = []\n",
        "\n",
        "for store_id in random_stores:\n",
        "    best_selling_item = get_best_selling_item_per_store(df, store_id)\n",
        "    best_selling_items_per_store.append((store_id, best_selling_item.index[0], best_selling_item.values[0]))\n",
        "\n",
        "best_selling_df = pd.DataFrame(best_selling_items_per_store, columns=['StoreID', 'BestSellingItem', 'SalesCount'])\n",
        "\n",
        "top_10_stores = best_selling_df.sort_values(by='SalesCount', ascending=False).head(10)\n",
        "\n",
        "for idx, row in top_10_stores.iterrows():\n",
        "    print(f\"Store {row['StoreID']} - Best-selling item: {row['BestSellingItem']} - Sold {row['SalesCount']} times\")\n",
        "    print(\"-\" * 50)"
      ],
      "metadata": {
        "colab": {
          "base_uri": "https://localhost:8080/"
        },
        "id": "6WGsUzcR2dr1",
        "outputId": "3b56567b-2479-4741-f28f-0362dd234e3d"
      },
      "execution_count": 38,
      "outputs": [
        {
          "output_type": "stream",
          "name": "stdout",
          "text": [
            "Store 1444 - Best-selling item: Ibanez Guitar - Sold 6 times\n",
            "--------------------------------------------------\n",
            "Store 693 - Best-selling item: Canon EOS Camera - Sold 5 times\n",
            "--------------------------------------------------\n",
            "Store 944 - Best-selling item: Canon EOS Camera - Sold 5 times\n",
            "--------------------------------------------------\n",
            "Store 121 - Best-selling item: Air Jordan 1 - Sold 4 times\n",
            "--------------------------------------------------\n",
            "Store 1310 - Best-selling item: Whey Protein Powder - Sold 4 times\n",
            "--------------------------------------------------\n",
            "Store 723 - Best-selling item: Canon EOS Camera - Sold 3 times\n",
            "--------------------------------------------------\n",
            "Store 1041 - Best-selling item: Air Jordan 1 - Sold 2 times\n",
            "--------------------------------------------------\n",
            "Store 2231 - Best-selling item: Burton Snowboard - Sold 2 times\n",
            "--------------------------------------------------\n",
            "Store 1710 - Best-selling item: Sony Headphone - Sold 2 times\n",
            "--------------------------------------------------\n",
            "Store 409 - Best-selling item: Camille Rose Conditioner - Sold 1 times\n",
            "--------------------------------------------------\n"
          ]
        }
      ]
    },
    {
      "cell_type": "code",
      "source": [],
      "metadata": {
        "id": "K08oov3r3lz3"
      },
      "execution_count": null,
      "outputs": []
    },
    {
      "cell_type": "markdown",
      "source": [
        "# **TOP 10 BEST-SELLING ITEMS IN THE CORPORATION**\n"
      ],
      "metadata": {
        "id": "tz3sKTOcxZeI"
      }
    },
    {
      "cell_type": "code",
      "source": [
        "#best-selling items across the entire organization (top 10 items)\n",
        "def get_best_selling_items_across_organization(df):\n",
        "    \"\"\"\n",
        "    Returns the top-selling items across the entire organization.\n",
        "    \"\"\"\n",
        "    # Count the frequency of each product across all stores\n",
        "    best_selling_items = df['ProductName'].value_counts().head(10)  # Top 10 items\n",
        "    return best_selling_items\n",
        "\n",
        "# Get the top 10 best-selling items across the entire organization\n",
        "top_selling_items = get_best_selling_items_across_organization(df)\n",
        "\n",
        "# Print the results\n",
        "print(\"Top 10 Best-Selling Items Across the Corporation:\")\n",
        "print(\"=\" * 50)\n",
        "\n",
        "for idx, (item, count) in enumerate(top_selling_items.items(), 1):\n",
        "    print(f\"{idx}. {item} - Sold {count} times\")\n",
        "    print(\"-\" * 50)"
      ],
      "metadata": {
        "colab": {
          "base_uri": "https://localhost:8080/"
        },
        "id": "p_G2fVqdvQgc",
        "outputId": "9977f49f-d393-437f-c002-9758b1bed15f"
      },
      "execution_count": 25,
      "outputs": [
        {
          "output_type": "stream",
          "name": "stdout",
          "text": [
            "Top 10 Best-Selling Items Across the Corporation:\n",
            "==================================================\n",
            "1. Ibanez Guitar - Sold 3981 times\n",
            "--------------------------------------------------\n",
            "2. Canon EOS Camera - Sold 3930 times\n",
            "--------------------------------------------------\n",
            "3. Air Jordan 1 - Sold 3907 times\n",
            "--------------------------------------------------\n",
            "4. Camille Rose Conditioner - Sold 3899 times\n",
            "--------------------------------------------------\n",
            "5. Burton Snowboard - Sold 3875 times\n",
            "--------------------------------------------------\n",
            "6. Carpet - Sold 3857 times\n",
            "--------------------------------------------------\n",
            "7. Victus Laptop - Sold 3848 times\n",
            "--------------------------------------------------\n",
            "8. Smith Ski Goggles - Sold 3843 times\n",
            "--------------------------------------------------\n",
            "9. Sony Headphone - Sold 3805 times\n",
            "--------------------------------------------------\n",
            "10. Whey Protein Powder - Sold 3791 times\n",
            "--------------------------------------------------\n"
          ]
        }
      ]
    },
    {
      "cell_type": "markdown",
      "source": [
        "# **Top 5 Most Frequent Item Pairs Across 10 Stores**"
      ],
      "metadata": {
        "id": "RLjwWdJtzMV4"
      }
    },
    {
      "cell_type": "code",
      "source": [
        "#Market basket analysis, performed across your corporate data\n",
        "random_stores = random.sample(baskets_per_store.index.get_level_values(0).unique().tolist(), 10)\n",
        "\n",
        "report = []\n",
        "\n",
        "for store_id in random_stores:\n",
        "    transactions = baskets_per_store[store_id].tolist()\n",
        "\n",
        "    te = TransactionEncoder()\n",
        "    te_ary = te.fit(transactions).transform(transactions)\n",
        "\n",
        "    store_df = pd.DataFrame(te_ary, columns=te.columns_)\n",
        "\n",
        "    frequent_itemsets = apriori(store_df, min_support=0.05, use_colnames=True)\n",
        "\n",
        "    frequent_itemsets_sorted = frequent_itemsets.sort_values(by='support', ascending=False)\n",
        "\n",
        "    top_itemsets = frequent_itemsets_sorted.head(5)\n",
        "\n",
        "    report.append(f\"Top 5 Best-Selling Items for Store {store_id}:\\n\")\n",
        "    report.append(\"=\"*50)\n",
        "\n",
        "    for idx, row in top_itemsets.iterrows():\n",
        "        items = \", \".join(row['itemsets'])\n",
        "        support = round(row['support'], 4)\n",
        "        report.append(f\"{items} - Purchased together in {support*100}% of orders.\")\n",
        "\n",
        "    report.append(\"=\"*50 + \"\\n\")\n",
        "\n",
        "for line in report:\n",
        "    print(line)"
      ],
      "metadata": {
        "colab": {
          "base_uri": "https://localhost:8080/"
        },
        "id": "5tRlKXeFvoeH",
        "outputId": "4863d278-0905-4167-ae1b-6ed4083ba496"
      },
      "execution_count": 24,
      "outputs": [
        {
          "output_type": "stream",
          "name": "stdout",
          "text": [
            "Top 5 Best-Selling Items for Store 2439:\n",
            "\n",
            "==================================================\n",
            "Nike Sweatpants, Whey Protein Powder - Purchased together in 50.0% of orders.\n",
            "Nike Sweatpants - Purchased together in 50.0% of orders.\n",
            "Sony Headphone - Purchased together in 50.0% of orders.\n",
            "Whey Protein Powder - Purchased together in 50.0% of orders.\n",
            "Victus Laptop, Smith Ski Goggles, Whey Protein Powder - Purchased together in 25.0% of orders.\n",
            "==================================================\n",
            "\n",
            "Top 5 Best-Selling Items for Store 872:\n",
            "\n",
            "==================================================\n",
            "Air Jordan 1 - Purchased together in 100.0% of orders.\n",
            "Ibanez Guitar - Purchased together in 100.0% of orders.\n",
            "Air Jordan 1, Ibanez Guitar - Purchased together in 100.0% of orders.\n",
            "Air Jordan 1, Ibanez Guitar, Whey Protein Powder - Purchased together in 66.67% of orders.\n",
            "Air Jordan 1, Whey Protein Powder - Purchased together in 66.67% of orders.\n",
            "==================================================\n",
            "\n",
            "Top 5 Best-Selling Items for Store 1035:\n",
            "\n",
            "==================================================\n",
            "Nike Sweatpants - Purchased together in 100.0% of orders.\n",
            "Air Jordan 1 - Purchased together in 50.0% of orders.\n",
            "Sony Headphone, Nike Sweatpants - Purchased together in 50.0% of orders.\n",
            "Air Jordan 1, Nike Sweatpants, Burton Snowboard, Sony Headphone - Purchased together in 50.0% of orders.\n",
            "Victus Laptop, Nike Sweatpants, Whey Protein Powder - Purchased together in 50.0% of orders.\n",
            "==================================================\n",
            "\n",
            "Top 5 Best-Selling Items for Store 1202:\n",
            "\n",
            "==================================================\n",
            "Air Jordan 1 - Purchased together in 33.33% of orders.\n",
            "Sony Headphone, Ibanez Guitar, Smith Ski Goggles - Purchased together in 33.33% of orders.\n",
            "Air Jordan 1, Ibanez Guitar, Smith Ski Goggles - Purchased together in 33.33% of orders.\n",
            "Air Jordan 1, Sony Headphone, Ibanez Guitar - Purchased together in 33.33% of orders.\n",
            "Air Jordan 1, Victus Laptop, Ibanez Guitar - Purchased together in 33.33% of orders.\n",
            "==================================================\n",
            "\n",
            "Top 5 Best-Selling Items for Store 402:\n",
            "\n",
            "==================================================\n",
            "Smith Ski Goggles - Purchased together in 100.0% of orders.\n",
            "Air Jordan 1 - Purchased together in 66.67% of orders.\n",
            "Ibanez Guitar, Smith Ski Goggles - Purchased together in 66.67% of orders.\n",
            "Ibanez Guitar - Purchased together in 66.67% of orders.\n",
            "Smith Ski Goggles, Whey Protein Powder - Purchased together in 66.67% of orders.\n",
            "==================================================\n",
            "\n",
            "Top 5 Best-Selling Items for Store 859:\n",
            "\n",
            "==================================================\n",
            "Smith Ski Goggles - Purchased together in 66.67% of orders.\n",
            "Whey Protein Powder - Purchased together in 66.67% of orders.\n",
            "Air Jordan 1 - Purchased together in 33.33% of orders.\n",
            "Victus Laptop, Nike Sweatpants, Smith Ski Goggles - Purchased together in 33.33% of orders.\n",
            "Air Jordan 1, Nike Sweatpants, Whey Protein Powder - Purchased together in 33.33% of orders.\n",
            "==================================================\n",
            "\n",
            "Top 5 Best-Selling Items for Store 254:\n",
            "\n",
            "==================================================\n",
            "Air Jordan 1 - Purchased together in 60.0% of orders.\n",
            "Ibanez Guitar - Purchased together in 60.0% of orders.\n",
            "Smith Ski Goggles - Purchased together in 60.0% of orders.\n",
            "Whey Protein Powder - Purchased together in 60.0% of orders.\n",
            "Ibanez Guitar, Smith Ski Goggles - Purchased together in 40.0% of orders.\n",
            "==================================================\n",
            "\n",
            "Top 5 Best-Selling Items for Store 1887:\n",
            "\n",
            "==================================================\n",
            "Burton Snowboard - Purchased together in 60.0% of orders.\n",
            "Carpet - Purchased together in 60.0% of orders.\n",
            "Air Jordan 1 - Purchased together in 40.0% of orders.\n",
            "Burton Snowboard, Carpet - Purchased together in 40.0% of orders.\n",
            "Air Jordan 1, Carpet - Purchased together in 40.0% of orders.\n",
            "==================================================\n",
            "\n",
            "Top 5 Best-Selling Items for Store 410:\n",
            "\n",
            "==================================================\n",
            "Nike Sweatpants - Purchased together in 100.0% of orders.\n",
            "Air Jordan 1 - Purchased together in 50.0% of orders.\n",
            "Nike Sweatpants, Ibanez Guitar - Purchased together in 50.0% of orders.\n",
            "Sony Headphone, Nike Sweatpants, Smith Ski Goggles - Purchased together in 50.0% of orders.\n",
            "Canon EOS Camera, Nike Sweatpants, Ibanez Guitar - Purchased together in 50.0% of orders.\n",
            "==================================================\n",
            "\n",
            "Top 5 Best-Selling Items for Store 115:\n",
            "\n",
            "==================================================\n",
            "Camille Rose Conditioner - Purchased together in 66.67% of orders.\n",
            "Ibanez Guitar - Purchased together in 66.67% of orders.\n",
            "Ibanez Guitar, Carpet, Camille Rose Conditioner - Purchased together in 33.33% of orders.\n",
            "Air Jordan 1, Carpet, Camille Rose Conditioner - Purchased together in 33.33% of orders.\n",
            "Air Jordan 1, Ibanez Guitar, Camille Rose Conditioner - Purchased together in 33.33% of orders.\n",
            "==================================================\n",
            "\n"
          ]
        }
      ]
    },
    {
      "cell_type": "markdown",
      "source": [
        "# **TOP 10 STORES WITH HIGHEST BEST SELLERS**"
      ],
      "metadata": {
        "id": "pSRg0rpx1U2H"
      }
    },
    {
      "cell_type": "code",
      "source": [
        "best_selling_items_per_store = df.groupby(['StoreID', 'ProductName']).size().reset_index(name='Count')\n",
        "\n",
        "best_selling_items_per_store = best_selling_items_per_store.sort_values(by=['StoreID', 'Count'], ascending=[True, False])\n",
        "\n",
        "top_best_selling_items = best_selling_items_per_store.drop_duplicates('StoreID', keep='first')\n",
        "\n",
        "top_10_stores = top_best_selling_items.sort_values(by='Count', ascending=False).head(10)\n",
        "\n",
        "top_10_stores['Rank'] = range(1, len(top_10_stores) + 1)\n",
        "\n",
        "for idx, row in top_10_stores.iterrows():\n",
        "    print(f\"Top {row['Rank']} - Store {row['StoreID']} - Best-Selling Item: {row['ProductName']} with {row['Count']} purchases\")"
      ],
      "metadata": {
        "colab": {
          "base_uri": "https://localhost:8080/"
        },
        "id": "Pf89LHmO1RkU",
        "outputId": "3e4d6c34-8904-438e-955e-793e5b7e0364"
      },
      "execution_count": 32,
      "outputs": [
        {
          "output_type": "stream",
          "name": "stdout",
          "text": [
            "Top 1 - Store 1678 - Best-Selling Item: Ibanez Guitar with 10 purchases\n",
            "Top 2 - Store 1167 - Best-Selling Item: Air Jordan 1 with 10 purchases\n",
            "Top 3 - Store 1537 - Best-Selling Item: Air Jordan 1 with 9 purchases\n",
            "Top 4 - Store 2137 - Best-Selling Item: Canon EOS Camera with 9 purchases\n",
            "Top 5 - Store 307 - Best-Selling Item: Ibanez Guitar with 9 purchases\n",
            "Top 6 - Store 1365 - Best-Selling Item: Burton Snowboard with 9 purchases\n",
            "Top 7 - Store 1894 - Best-Selling Item: Air Jordan 1 with 9 purchases\n",
            "Top 8 - Store 2002 - Best-Selling Item: Victus Laptop with 9 purchases\n",
            "Top 9 - Store 2421 - Best-Selling Item: Smith Ski Goggles with 9 purchases\n",
            "Top 10 - Store 2177 - Best-Selling Item: Victus Laptop with 9 purchases\n"
          ]
        }
      ]
    },
    {
      "cell_type": "markdown",
      "source": [
        "# **Top 10 Stores With Highest Total Sales**"
      ],
      "metadata": {
        "id": "WRDGwZIJ4RRc"
      }
    },
    {
      "cell_type": "code",
      "source": [
        "df['Price'] = df['Price'].replace({'\\$': '', ',': ''}, regex=True).astype(float)\n",
        "\n",
        "total_sales_per_order = df.groupby(['StoreID', 'OrderID'])['Price'].sum().reset_index()\n",
        "\n",
        "total_sales_per_store = total_sales_per_order.groupby('StoreID')['Price'].sum().reset_index()\n",
        "\n",
        "top_10_stores_by_sales = total_sales_per_store.sort_values(by='Price', ascending=False).head(10)\n",
        "\n",
        "top_10_stores_by_sales['Top'] = range(1, len(top_10_stores_by_sales) + 1)\n",
        "\n",
        "for idx, row in top_10_stores_by_sales.iterrows():\n",
        "    print(f\"Top {int(row['Top'])} - Store {int(row['StoreID'])} - Total Sales: ${row['Price']:.2f}\")\n",
        "    print(\"-\" * 50)"
      ],
      "metadata": {
        "colab": {
          "base_uri": "https://localhost:8080/"
        },
        "id": "HgVgsoI131My",
        "outputId": "5bc2b7a4-3165-4b6d-dc5a-34af7940e3b8"
      },
      "execution_count": 43,
      "outputs": [
        {
          "output_type": "stream",
          "name": "stdout",
          "text": [
            "Top 1 - Store 2177 - Total Sales: $14795.64\n",
            "--------------------------------------------------\n",
            "Top 2 - Store 1203 - Total Sales: $12782.69\n",
            "--------------------------------------------------\n",
            "Top 3 - Store 1020 - Total Sales: $12740.76\n",
            "--------------------------------------------------\n",
            "Top 4 - Store 1365 - Total Sales: $12551.73\n",
            "--------------------------------------------------\n",
            "Top 5 - Store 92 - Total Sales: $12527.71\n",
            "--------------------------------------------------\n",
            "Top 6 - Store 150 - Total Sales: $12486.74\n",
            "--------------------------------------------------\n",
            "Top 7 - Store 923 - Total Sales: $12401.64\n",
            "--------------------------------------------------\n",
            "Top 8 - Store 1537 - Total Sales: $12333.72\n",
            "--------------------------------------------------\n",
            "Top 9 - Store 1500 - Total Sales: $12071.69\n",
            "--------------------------------------------------\n",
            "Top 10 - Store 428 - Total Sales: $11911.75\n",
            "--------------------------------------------------\n"
          ]
        }
      ]
    }
  ]
}